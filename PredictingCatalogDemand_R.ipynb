{
  "nbformat": 4,
  "nbformat_minor": 0,
  "metadata": {
    "kernelspec": {
      "display_name": "R (system-wide)",
      "language": "r",
      "metadata": {
        "cocalc": {
          "description": "R statistical programming language",
          "priority": 10,
          "url": "https://www.r-project.org/"
        }
      },
      "name": "ir",
      "resource_dir": "/ext/jupyter/kernels/ir"
    },
    "language_info": {
      "codemirror_mode": "r",
      "file_extension": ".r",
      "mimetype": "text/x-r-source",
      "name": "R",
      "pygments_lexer": "r",
      "version": "4.0.5"
    },
    "colab": {
      "provenance": [],
      "private_outputs": true,
      "include_colab_link": true
    },
    "gpuClass": "standard"
  },
  "cells": [
    {
      "cell_type": "markdown",
      "metadata": {
        "id": "view-in-github",
        "colab_type": "text"
      },
      "source": [
        "<a href=\"https://colab.research.google.com/github/ravichas/PredAnal4Business_Udacity/blob/main/PredictingCatalogDemand_R.ipynb\" target=\"_parent\"><img src=\"https://colab.research.google.com/assets/colab-badge.svg\" alt=\"Open In Colab\"/></a>"
      ]
    },
    {
      "cell_type": "markdown",
      "metadata": {
        "collapsed": false,
        "id": "g-1EX1EjUnB_"
      },
      "source": [
        "# Predicting Catalog Demand\n",
        "\n",
        "This project is part of Predictive Analytics for Business Nanodegree. \n",
        "Details of the project are explained in the pdf document,   `p1-submission-SRavichandan.pdf`\n"
      ]
    },
    {
      "cell_type": "code",
      "source": [
        "install.packages(\"ggthemes\")"
      ],
      "metadata": {
        "id": "tUnsW70ugI4h"
      },
      "execution_count": null,
      "outputs": []
    },
    {
      "cell_type": "code",
      "source": [
        "install.packages(\"readxl\")"
      ],
      "metadata": {
        "id": "KPcrrOLegGZx"
      },
      "execution_count": null,
      "outputs": []
    },
    {
      "cell_type": "code",
      "source": [
        "install.packages(\"fastDummies\")"
      ],
      "metadata": {
        "id": "_oCoJu9YgNDK"
      },
      "execution_count": null,
      "outputs": []
    },
    {
      "cell_type": "code",
      "source": [
        "library(readxl)\n",
        "library(fastDummies)\n",
        "library(ggthemes)"
      ],
      "metadata": {
        "id": "Xn5IrYkdgPPv"
      },
      "execution_count": null,
      "outputs": []
    },
    {
      "cell_type": "code",
      "source": [
        "p1_customers <- read_excel(\"p1-customers.xlsx\")\n",
        "#View(p1_customers)  \n",
        "p1_mailinglist <- read_excel(\"p1-mailinglist.xlsx\")"
      ],
      "metadata": {
        "id": "FitYYP7WaVnX"
      },
      "execution_count": null,
      "outputs": []
    },
    {
      "cell_type": "code",
      "source": [
        "colnames(p1_customers)\n",
        "colnames(p1_mailinglist)\n"
      ],
      "metadata": {
        "id": "8I9k8mZOeJxB"
      },
      "execution_count": null,
      "outputs": []
    },
    {
      "cell_type": "code",
      "source": [
        "\n",
        "#clean the colnames \n",
        "library(tidyverse)\n",
        "p1_customers <- p1_customers %>% \n",
        "  rename(Num_Years_as_Customer = \"#_Years_as_Customer\")\n",
        "\n",
        "p1_mailinglist <- p1_mailinglist %>% \n",
        "  rename(Num_Years_as_Customer = \"#_Years_as_Customer\")"
      ],
      "metadata": {
        "id": "02XBtJfyeNGd"
      },
      "execution_count": null,
      "outputs": []
    },
    {
      "cell_type": "code",
      "source": [
        "library(fastDummies)\n",
        "p1_customers <- dummy_cols(p1_customers, select_columns = \"Customer_Segment\", remove_first_dummy = TRUE,\n",
        "                 remove_selected_columns = TRUE)\n",
        "\n",
        "p1_mailinglist <- dummy_cols(p1_mailinglist, select_columns = \"Customer_Segment\", remove_first_dummy = TRUE,\n",
        "                            remove_selected_columns = TRUE)"
      ],
      "metadata": {
        "id": "Lx75DRqzece2"
      },
      "execution_count": null,
      "outputs": []
    },
    {
      "cell_type": "markdown",
      "source": [
        "# EDA"
      ],
      "metadata": {
        "id": "dHBXH_v_gnIy"
      }
    },
    {
      "cell_type": "code",
      "source": [
        "b <- ggplot(p1_customers, aes(Num_Years_as_Customer, Avg_Sale_Amount)) \n",
        "b + geom_point() + \n",
        "  geom_smooth(method=\"lm\") +\n",
        "  ggthemes::theme_economist() +\n",
        "  ggtitle(\"Num. of Years as Customer vs Avg Sale Amount\");"
      ],
      "metadata": {
        "id": "DxOK5DVdg2Ey"
      },
      "execution_count": null,
      "outputs": []
    },
    {
      "cell_type": "code",
      "source": [
        "b <- ggplot(p1_customers, aes(Avg_Num_Products_Purchased, Avg_Sale_Amount)) \n",
        "b + geom_point() + \n",
        "  geom_smooth(method=\"lm\") +\n",
        "  ggthemes::theme_economist() +\n",
        "  ggtitle(\"<Num Products purchased> vs Avg Sale Amount\")"
      ],
      "metadata": {
        "id": "KgtvkP2Gg5Ti"
      },
      "execution_count": null,
      "outputs": []
    },
    {
      "cell_type": "code",
      "source": [
        "ggplot(p1_customers, aes(CS_LC_and_CC, Avg_Sale_Amount)) +\n",
        "  geom_point() + \n",
        "  geom_smooth(method=\"lm\") +\n",
        "  ggthemes::theme_economist() +\n",
        "  ggtitle(\"CS_LC_and_CC = Customer_Segment_Loyalty\\n Club and Credit Card\");"
      ],
      "metadata": {
        "id": "4L5krciOg8cD"
      },
      "execution_count": null,
      "outputs": []
    },
    {
      "cell_type": "code",
      "source": [
        "ggplot(p1_customers, aes(CS_LC_Only, Avg_Sale_Amount)) +\n",
        "  geom_point() + \n",
        "  geom_smooth(method=\"lm\") +\n",
        "  ggthemes::theme_economist() +\n",
        "  ggtitle(\"CS_LC_Only = Customer_Segment_Loyalty Club Only\");"
      ],
      "metadata": {
        "id": "nikUnbz9hBWa"
      },
      "execution_count": null,
      "outputs": []
    },
    {
      "cell_type": "code",
      "source": [
        "ggplot(p1_customers, aes(CS_SML, Avg_Sale_Amount)) +\n",
        "  geom_point() + \n",
        "  geom_smooth(method=\"lm\") +\n",
        "  ggthemes::theme_economist() +\n",
        "  ggtitle(\"CS_SML = Customer_Segment_Store Mailing List\")"
      ],
      "metadata": {
        "id": "5RmbHB8Tf584"
      },
      "execution_count": null,
      "outputs": []
    },
    {
      "cell_type": "code",
      "source": [
        "# note the base level is set to credit card only class\n",
        "p1_customers <- p1_customers %>% \n",
        "  rename(CS_LC_and_CC = \"Customer_Segment_Loyalty Club and Credit Card\",\n",
        "         CS_LC_Only = \"Customer_Segment_Loyalty Club Only\",\n",
        "         CS_SML = \"Customer_Segment_Store Mailing List\")\n",
        "\n",
        "\n",
        "p1_mailinglist <- p1_mailinglist %>% \n",
        "  rename(CS_LC_and_CC = \"Customer_Segment_Loyalty Club and Credit Card\",\n",
        "         CS_LC_Only = \"Customer_Segment_Loyalty Club Only\",\n",
        "         CS_SML = \"Customer_Segment_Store Mailing List\")"
      ],
      "metadata": {
        "id": "wQQqVnO3e0Yy"
      },
      "execution_count": null,
      "outputs": []
    },
    {
      "cell_type": "markdown",
      "source": [
        "Note, here I use only selected features for modeling. This decision was based on statistical significance. "
      ],
      "metadata": {
        "id": "S0e_8_bWe50N"
      }
    },
    {
      "cell_type": "code",
      "source": [
        "model <- lm(data = p1_customers, Avg_Sale_Amount ~ Avg_Num_Products_Purchased + \n",
        "              CS_LC_and_CC + \n",
        "              CS_LC_Only + \n",
        "              CS_SML)\n",
        "summary(model)"
      ],
      "metadata": {
        "id": "45YNxDTnfUJG"
      },
      "execution_count": null,
      "outputs": []
    },
    {
      "cell_type": "code",
      "source": [
        "p1_mailinglist$Predicted_Average_Sale <- predict(model, p1_mailinglist)\n",
        "p1_mailinglist_mod <- p1_mailinglist %>% mutate(Avg_Sale = Predicted_Average_Sale * Score_Yes)\n",
        "\n",
        "p1_mailinglist_mod %>% select(Avg_Sale) %>% select(Avg_Sale) %>% summarise(Avg_Sale_Sum = (sum(Avg_Sale) * 0.5 - 1625.0))"
      ],
      "metadata": {
        "id": "1dN_CQMafkhh"
      },
      "execution_count": null,
      "outputs": []
    },
    {
      "cell_type": "code",
      "source": [
        "\n"
      ],
      "metadata": {
        "id": "KTyYgYNmZ7Lj"
      },
      "execution_count": null,
      "outputs": []
    }
  ]
}